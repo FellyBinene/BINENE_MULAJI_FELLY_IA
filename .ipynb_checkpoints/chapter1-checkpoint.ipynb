{
 "cells": [
  {
   "cell_type": "markdown",
   "id": "f070fe48-15fa-4b0a-b119-e8cca6a1db36",
   "metadata": {},
   "source": [
    "# A. IMPORTATION DE LIBRAIRIES "
   ]
  },
  {
   "cell_type": "code",
   "execution_count": 10,
   "id": "bdc7b4e1-e15f-45d4-9157-96bf0e877f2c",
   "metadata": {},
   "outputs": [],
   "source": [
    "# importation de librairie "
   ]
  },
  {
   "cell_type": "code",
   "execution_count": 11,
   "id": "779524f2-7180-4b7b-b11e-75fd186b3468",
   "metadata": {},
   "outputs": [],
   "source": [
    "import numpy as np"
   ]
  },
  {
   "cell_type": "markdown",
   "id": "d04376f1-51d5-44b9-8354-8490e223013a",
   "metadata": {},
   "source": [
    "# 1. Tableau"
   ]
  },
  {
   "cell_type": "markdown",
   "id": "a08d8985-687d-49e5-8463-a65e5a8bf366",
   "metadata": {},
   "source": [
    "## 1.1 Tableau a 1D"
   ]
  },
  {
   "cell_type": "code",
   "execution_count": 14,
   "id": "74bc4035-7b34-4e0f-86a0-4a3acbebda1b",
   "metadata": {},
   "outputs": [],
   "source": [
    "# Creation d'un tableau a 1D\n",
    "tab_1D = np.array([2,4,6,8,10,12,14])"
   ]
  },
  {
   "cell_type": "code",
   "execution_count": 15,
   "id": "69a7da53-11d3-4f64-8f8e-1b43b916815c",
   "metadata": {},
   "outputs": [
    {
     "data": {
      "text/plain": [
       "array([ 2,  4,  6,  8, 10, 12, 14])"
      ]
     },
     "execution_count": 15,
     "metadata": {},
     "output_type": "execute_result"
    }
   ],
   "source": [
    "tab_1D"
   ]
  },
  {
   "cell_type": "code",
   "execution_count": 16,
   "id": "4d94577d-a174-4fb7-b6e0-60379227c6d4",
   "metadata": {},
   "outputs": [
    {
     "name": "stdout",
     "output_type": "stream",
     "text": [
      "[ 2  4  6  8 10 12 14]\n"
     ]
    }
   ],
   "source": [
    "print(tab_1D)"
   ]
  },
  {
   "cell_type": "code",
   "execution_count": 17,
   "id": "7e7fdd66-fe32-4bdd-aa84-18867d701e52",
   "metadata": {},
   "outputs": [
    {
     "name": "stdout",
     "output_type": "stream",
     "text": [
      "(7,)\n"
     ]
    }
   ],
   "source": [
    "print(tab_1D.shape)"
   ]
  },
  {
   "cell_type": "code",
   "execution_count": 18,
   "id": "e76c2ed5-d73f-42fe-b2b6-23188b7e6b54",
   "metadata": {},
   "outputs": [
    {
     "data": {
      "text/plain": [
       "numpy.ndarray"
      ]
     },
     "execution_count": 18,
     "metadata": {},
     "output_type": "execute_result"
    }
   ],
   "source": [
    "type(tab_1D)"
   ]
  },
  {
   "cell_type": "code",
   "execution_count": 19,
   "id": "9635ea94-b84b-41fd-a255-13c190386fbd",
   "metadata": {},
   "outputs": [
    {
     "name": "stdout",
     "output_type": "stream",
     "text": [
      "Dimension de tableau (7,)\n",
      "Type du tableau <class 'numpy.ndarray'>\n",
      "Voici le tableau: [ 2  4  6  8 10 12 14]\n"
     ]
    }
   ],
   "source": [
    "print(\"Dimension de tableau\", tab_1D.shape)\n",
    "print(\"Type du tableau\", type(tab_1D))\n",
    "print(\"Voici le tableau:\", tab_1D)"
   ]
  },
  {
   "cell_type": "markdown",
   "id": "1559008c-f48e-4ae1-a1b9-2f74ed9bcac5",
   "metadata": {},
   "source": [
    "## 1.2 Tableau 2D"
   ]
  },
  {
   "cell_type": "code",
   "execution_count": 21,
   "id": "55eef934-0292-469d-b251-2a267f92d913",
   "metadata": {},
   "outputs": [],
   "source": [
    "# Creation d'un tableau a 2D\n",
    "tab_2D = np.array([\n",
    "    [1,3,5,7,8],\n",
    "    [11,33,55,77,88]\n",
    "])"
   ]
  },
  {
   "cell_type": "code",
   "execution_count": 22,
   "id": "e4d6c73d-88b0-4049-97b8-4aa5cfefe84d",
   "metadata": {},
   "outputs": [
    {
     "name": "stdout",
     "output_type": "stream",
     "text": [
      "Dimension de tableau (2, 5)\n",
      "Type du tableau <class 'numpy.ndarray'>\n",
      "Voici le tableau: [[ 1  3  5  7  8]\n",
      " [11 33 55 77 88]]\n"
     ]
    }
   ],
   "source": [
    "print(\"Dimension de tableau\", tab_2D.shape)\n",
    "print(\"Type du tableau\", type(tab_2D))\n",
    "print(\"Voici le tableau:\", tab_2D)"
   ]
  },
  {
   "cell_type": "markdown",
   "id": "d1e25584-45a2-43eb-b017-a22bee1aafc7",
   "metadata": {},
   "source": [
    "## 1.3 Tableau 3D"
   ]
  },
  {
   "cell_type": "code",
   "execution_count": 24,
   "id": "38f81470-b233-40dc-b70a-8e643bc5d347",
   "metadata": {},
   "outputs": [],
   "source": [
    "# Creation d'un tableau 3D\n",
    "tab_3D = np.array([[\n",
    "    [9,7,5,3,1],\n",
    "    [100,90,70,50,30],\n",
    "    [115,95,75,55,35]\n",
    "]])"
   ]
  },
  {
   "cell_type": "code",
   "execution_count": 25,
   "id": "c9a95452-97c6-40af-b401-070e578da0e9",
   "metadata": {},
   "outputs": [
    {
     "name": "stdout",
     "output_type": "stream",
     "text": [
      "Dimension de tableau (1, 3, 5)\n",
      "Type du tableau <class 'numpy.ndarray'>\n",
      "Voici le tableau: [[[  9   7   5   3   1]\n",
      "  [100  90  70  50  30]\n",
      "  [115  95  75  55  35]]]\n"
     ]
    }
   ],
   "source": [
    "print(\"Dimension de tableau\", tab_3D.shape)\n",
    "print(\"Type du tableau\", type(tab_3D))\n",
    "print(\"Voici le tableau:\", tab_3D)"
   ]
  },
  {
   "cell_type": "markdown",
   "id": "0eb2d3f1-e93e-42d0-b320-3a58270346a4",
   "metadata": {},
   "source": [
    "## 1.4 Tableau a 4D"
   ]
  },
  {
   "cell_type": "code",
   "execution_count": 27,
   "id": "e8cb84a9-737e-47ce-96e5-bc8488e15774",
   "metadata": {},
   "outputs": [],
   "source": [
    "# Creation d'un tableau 4D\n",
    "tab_4D = np.array([[[\n",
    "    [2,4,6,8,10],\n",
    "    [25,45,65,85,105],\n",
    "    [200,150,100,55,25],\n",
    "]]])"
   ]
  },
  {
   "cell_type": "code",
   "execution_count": 28,
   "id": "c4b4e785-10bd-4738-87a0-ccff2fa7fbd8",
   "metadata": {},
   "outputs": [
    {
     "name": "stdout",
     "output_type": "stream",
     "text": [
      "Dimension de tableau (1, 1, 3, 5)\n",
      "Type du tableau <class 'numpy.ndarray'>\n",
      "Voici le tableau: [[[[  2   4   6   8  10]\n",
      "   [ 25  45  65  85 105]\n",
      "   [200 150 100  55  25]]]]\n"
     ]
    }
   ],
   "source": [
    "print(\"Dimension de tableau\", tab_4D.shape)\n",
    "print(\"Type du tableau\", type(tab_4D))\n",
    "print(\"Voici le tableau:\", tab_4D)"
   ]
  },
  {
   "cell_type": "markdown",
   "id": "f9329382-77bb-4a43-9ff0-8c8bf74ef886",
   "metadata": {},
   "source": [
    "# B. OPERATIONS"
   ]
  },
  {
   "cell_type": "code",
   "execution_count": 30,
   "id": "922dff8a-6af7-400a-810c-a5c5c60b0610",
   "metadata": {},
   "outputs": [],
   "source": [
    "a = np.array([\n",
    "    [2,4,6,8],\n",
    "    [25,45,65,85],\n",
    "])\n",
    "\n",
    "b = np.array([\n",
    "    [20,40,60,80],\n",
    "    [250,450,650,850],\n",
    "])"
   ]
  },
  {
   "cell_type": "code",
   "execution_count": 31,
   "id": "1405d723-371a-4f90-8f3f-662131f72f43",
   "metadata": {},
   "outputs": [
    {
     "name": "stdout",
     "output_type": "stream",
     "text": [
      "(2, 4)\n",
      "[[ 2  4  6  8]\n",
      " [25 45 65 85]]\n",
      "(2, 4)\n",
      "[[ 20  40  60  80]\n",
      " [250 450 650 850]]\n"
     ]
    }
   ],
   "source": [
    "print(a.shape)\n",
    "print(a)\n",
    "print(b.shape)\n",
    "print(b)"
   ]
  },
  {
   "cell_type": "code",
   "execution_count": null,
   "id": "d022e61a-616f-4618-900b-54e7ff51c36c",
   "metadata": {},
   "outputs": [],
   "source": []
  }
 ],
 "metadata": {
  "kernelspec": {
   "display_name": "Python [conda env:base] *",
   "language": "python",
   "name": "conda-base-py"
  },
  "language_info": {
   "codemirror_mode": {
    "name": "ipython",
    "version": 3
   },
   "file_extension": ".py",
   "mimetype": "text/x-python",
   "name": "python",
   "nbconvert_exporter": "python",
   "pygments_lexer": "ipython3",
   "version": "3.12.7"
  }
 },
 "nbformat": 4,
 "nbformat_minor": 5
}
